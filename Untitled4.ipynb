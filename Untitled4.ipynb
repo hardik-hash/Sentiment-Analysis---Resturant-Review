{
 "cells": [
  {
   "cell_type": "code",
   "execution_count": null,
   "id": "c3f1ef2c",
   "metadata": {},
   "outputs": [],
   "source": [
    "import tkinter as tk\n",
    "from tkinter import ttk\n",
    "import speech_recognition as sr\n",
    "from nltk.sentiment import SentimentIntensityAnalyzer\n",
    "import threading\n",
    "import time\n",
    "import math\n",
    "\n",
    "# Download NLTK resources if not already downloaded\n",
    "import nltk\n",
    "\n",
    "# Initialize the Sentiment Intensity Analyzer\n",
    "sia = SentimentIntensityAnalyzer()\n",
    "\n",
    "def analyze_voice_sentiment(audio):\n",
    "    \"\"\"Analyze the sentiment of speech input and return a sentiment label.\"\"\"\n",
    "    text = recognizer.recognize_google(audio)\n",
    "    scores = sia.polarity_scores(text)\n",
    "    if scores['compound'] >= 0.05:\n",
    "        return 'Positive'\n",
    "    elif scores['compound'] <= -0.05:\n",
    "        return 'Negative'\n",
    "    else:\n",
    "        return 'Neutral'\n",
    "\n",
    "def start_listening():\n",
    "    \"\"\"Start listening for speech input.\"\"\"\n",
    "    global listening\n",
    "    listening = True\n",
    "    status_label.config(text=\"Listening...\")\n",
    "    # Start a thread for processing audio\n",
    "    threading.Thread(target=process_audio).start()\n",
    "\n",
    "def stop_listening():\n",
    "    \"\"\"Stop listening for speech input.\"\"\"\n",
    "    global listening\n",
    "    listening = False\n",
    "    status_label.config(text=\"Not Listening\")\n",
    "\n",
    "def process_audio():\n",
    "    \"\"\"Process the recorded audio for sentiment analysis.\"\"\"\n",
    "    while listening:\n",
    "        with sr.Microphone() as source:\n",
    "            audio = recognizer.listen(source)\n",
    "        try:\n",
    "            label = analyze_voice_sentiment(audio)\n",
    "            sentiment_label.config(text=f\"Sentiment: {label}\")\n",
    "        except sr.UnknownValueError:\n",
    "            sentiment_label.config(text=\"Could not understand audio\")\n",
    "        except sr.RequestError as e:\n",
    "            sentiment_label.config(text=f\"Error: {e}\")\n",
    "\n",
    "def draw_wave(canvas, amplitude, period, width, height):\n",
    "    \"\"\"Draw a wave-like pattern on the canvas.\"\"\"\n",
    "    canvas.delete(\"all\")\n",
    "    points = []\n",
    "    for x in range(0, width, 5):\n",
    "        y = amplitude * math.sin(2 * math.pi * x / period) + height / 2\n",
    "        points.append((x, y))\n",
    "    canvas.create_line(points, fill=\"blue\", smooth=True)\n",
    "\n",
    "# Initialize Tkinter window\n",
    "root = tk.Tk()\n",
    "root.title(\"Speech Sentiment Analysis\")\n",
    "root.geometry(\"400x400\")\n",
    "\n",
    "# Create GUI elements\n",
    "status_label = ttk.Label(root, text=\"Not Listening\", font=(\"Arial\", 12))\n",
    "status_label.pack(pady=10)\n",
    "\n",
    "start_button = ttk.Button(root, text=\"Start Listening\", command=start_listening)\n",
    "start_button.pack()\n",
    "\n",
    "stop_button = ttk.Button(root, text=\"Stop Listening\", command=stop_listening)\n",
    "stop_button.pack()\n",
    "\n",
    "canvas = tk.Canvas(root, width=400, height=200)\n",
    "canvas.pack()\n",
    "\n",
    "sentiment_label = ttk.Label(root, text=\"Sentiment: \", font=(\"Arial\", 12))\n",
    "sentiment_label.pack(pady=10)\n",
    "\n",
    "# Initialize SpeechRecognizer\n",
    "recognizer = sr.Recognizer()\n",
    "\n",
    "# Start processing audio asynchronously\n",
    "listening = False\n",
    "\n",
    "# Start the wave animation\n",
    "amplitude = 50\n",
    "period = 50\n",
    "width = 400\n",
    "height = 200\n",
    "\n",
    "while True:\n",
    "    if listening:\n",
    "        draw_wave(canvas, amplitude, period, width, height)\n",
    "        amplitude += 1  # Change the amplitude for animation effect\n",
    "        root.update()\n",
    "    time.sleep(0.05)\n",
    "\n",
    "# Start the Tkinter event loop\n",
    "root.mainloop()\n"
   ]
  },
  {
   "cell_type": "code",
   "execution_count": 1,
   "id": "af3078fa",
   "metadata": {},
   "outputs": [],
   "source": [
    "import tkinter as tk\n",
    "from tkinter import ttk\n",
    "import speech_recognition as sr\n",
    "from nltk.sentiment import SentimentIntensityAnalyzer\n",
    "import threading\n",
    "import time\n",
    "import math\n",
    "\n",
    "# Download NLTK resources if not already downloaded\n",
    "import nltk"
   ]
  },
  {
   "cell_type": "code",
   "execution_count": 2,
   "id": "8b0ceead",
   "metadata": {},
   "outputs": [],
   "source": [
    "sia = SentimentIntensityAnalyzer()"
   ]
  },
  {
   "cell_type": "code",
   "execution_count": 3,
   "id": "49b483c4",
   "metadata": {},
   "outputs": [],
   "source": [
    "def analyze_voice_sentiment(audio):\n",
    "    \"\"\"Analyze the sentiment of speech input and return a sentiment label.\"\"\"\n",
    "    text = recognizer.recognize_google(audio)\n",
    "    scores = sia.polarity_scores(text)\n",
    "    if scores['compound'] >= 0.05:\n",
    "        return 'Positive'\n",
    "    elif scores['compound'] <= -0.05:\n",
    "        return 'Negative'\n",
    "    else:\n",
    "        return 'Neutral'\n",
    "\n",
    "def start_listening():\n",
    "    \"\"\"Start listening for speech input.\"\"\"\n",
    "    global listening\n",
    "    listening = True\n",
    "    status_label.config(text=\"Listening...\")\n",
    "    # Start a thread for processing audio\n",
    "    threading.Thread(target=process_audio).start()\n",
    "\n",
    "def stop_listening():\n",
    "    \"\"\"Stop listening for speech input.\"\"\"\n",
    "    global listening\n",
    "    listening = False\n",
    "    status_label.config(text=\"Not Listening\")\n",
    "def process_audio():\n",
    "    \"\"\"Process the recorded audio for sentiment analysis.\"\"\"\n",
    "    while listening:\n",
    "        with sr.Microphone() as source:\n",
    "            audio = recognizer.listen(source)\n",
    "        try:\n",
    "            label = analyze_voice_sentiment(audio)\n",
    "            sentiment_label.config(text=f\"Sentiment: {label}\")\n",
    "        except sr.UnknownValueError:\n",
    "            sentiment_label.config(text=\"Could not understand audio\")\n",
    "        except sr.RequestError as e:\n",
    "            sentiment_label.config(text=f\"Error: {e}\")\n",
    "\n",
    "def draw_wave(canvas, amplitude, period, width, height):\n",
    "    \"\"\"Draw a wave-like pattern on the canvas.\"\"\"\n",
    "    canvas.delete(\"all\")\n",
    "    points = []\n",
    "    for x in range(0, width, 5):\n",
    "        y = amplitude * math.sin(2 * math.pi * x / period) + height / 2\n",
    "        points.append((x, y))\n",
    "    canvas.create_line(points, fill=\"blue\", smooth=True)    "
   ]
  },
  {
   "cell_type": "code",
   "execution_count": 4,
   "id": "21f7dd7a",
   "metadata": {},
   "outputs": [
    {
     "data": {
      "text/plain": [
       "''"
      ]
     },
     "execution_count": 4,
     "metadata": {},
     "output_type": "execute_result"
    }
   ],
   "source": [
    "root = tk.Tk()\n",
    "root.title(\"Speech Sentiment Analysis\")\n",
    "root.geometry(\"400x400\")"
   ]
  },
  {
   "cell_type": "code",
   "execution_count": 5,
   "id": "0eddc230",
   "metadata": {},
   "outputs": [],
   "source": [
    "status_label = ttk.Label(root, text=\"Not Listening\", font=(\"Arial\", 12))\n",
    "status_label.pack(pady=10)\n",
    "\n",
    "start_button = ttk.Button(root, text=\"Start Listening\", command=start_listening)\n",
    "start_button.pack()\n",
    "\n",
    "stop_button = ttk.Button(root, text=\"Stop Listening\", command=stop_listening)\n",
    "stop_button.pack()\n",
    "\n",
    "canvas = tk.Canvas(root, width=400, height=200)\n",
    "canvas.pack()\n",
    "\n",
    "sentiment_label = ttk.Label(root, text=\"Sentiment: \", font=(\"Arial\", 12))\n",
    "sentiment_label.pack(pady=10)"
   ]
  },
  {
   "cell_type": "code",
   "execution_count": 6,
   "id": "20066ecd",
   "metadata": {},
   "outputs": [],
   "source": [
    "recognizer = sr.Recognizer()"
   ]
  },
  {
   "cell_type": "code",
   "execution_count": 7,
   "id": "299c2361",
   "metadata": {},
   "outputs": [],
   "source": [
    "listening = False"
   ]
  },
  {
   "cell_type": "code",
   "execution_count": 8,
   "id": "0eeffe0a",
   "metadata": {},
   "outputs": [],
   "source": [
    "amplitude = 50\n",
    "period = 50\n",
    "width = 400\n",
    "height = 200\n"
   ]
  },
  {
   "cell_type": "code",
   "execution_count": null,
   "id": "37c76779",
   "metadata": {},
   "outputs": [],
   "source": [
    "while True:\n",
    "    if listening:\n",
    "        draw_wave(canvas, amplitude, period, width, height)\n",
    "        amplitude += 1  # Change the amplitude for animation effect\n",
    "        root.update()\n",
    "    time.sleep(0.05)"
   ]
  },
  {
   "cell_type": "code",
   "execution_count": 9,
   "id": "5bf58ca1",
   "metadata": {},
   "outputs": [
    {
     "name": "stderr",
     "output_type": "stream",
     "text": [
      "Exception in thread Thread-5 (process_audio):\n",
      "Traceback (most recent call last):\n",
      "  File \"C:\\Users\\HP\\anaconda3\\lib\\site-packages\\speech_recognition\\__init__.py\", line 108, in get_pyaudio\n",
      "    import pyaudio\n",
      "ModuleNotFoundError: No module named 'pyaudio'\n",
      "\n",
      "During handling of the above exception, another exception occurred:\n",
      "\n",
      "Traceback (most recent call last):\n",
      "  File \"C:\\Users\\HP\\anaconda3\\lib\\threading.py\", line 1016, in _bootstrap_inner\n",
      "    self.run()\n",
      "  File \"C:\\Users\\HP\\anaconda3\\lib\\threading.py\", line 953, in run\n",
      "    self._target(*self._args, **self._kwargs)\n",
      "  File \"C:\\Users\\HP\\AppData\\Local\\Temp\\ipykernel_9556\\1482423432.py\", line 28, in process_audio\n",
      "  File \"C:\\Users\\HP\\anaconda3\\lib\\site-packages\\speech_recognition\\__init__.py\", line 79, in __init__\n",
      "    self.pyaudio_module = self.get_pyaudio()\n",
      "  File \"C:\\Users\\HP\\anaconda3\\lib\\site-packages\\speech_recognition\\__init__.py\", line 110, in get_pyaudio\n",
      "    raise AttributeError(\"Could not find PyAudio; check installation\")\n",
      "AttributeError: Could not find PyAudio; check installation\n"
     ]
    }
   ],
   "source": [
    "root.mainloop()"
   ]
  },
  {
   "cell_type": "code",
   "execution_count": null,
   "id": "5fb2aa39",
   "metadata": {},
   "outputs": [],
   "source": []
  },
  {
   "cell_type": "code",
   "execution_count": null,
   "id": "f27fe91e",
   "metadata": {},
   "outputs": [],
   "source": []
  },
  {
   "cell_type": "code",
   "execution_count": null,
   "id": "35c78562",
   "metadata": {},
   "outputs": [],
   "source": []
  }
 ],
 "metadata": {
  "kernelspec": {
   "display_name": "Python 3 (ipykernel)",
   "language": "python",
   "name": "python3"
  },
  "language_info": {
   "codemirror_mode": {
    "name": "ipython",
    "version": 3
   },
   "file_extension": ".py",
   "mimetype": "text/x-python",
   "name": "python",
   "nbconvert_exporter": "python",
   "pygments_lexer": "ipython3",
   "version": "3.10.9"
  }
 },
 "nbformat": 4,
 "nbformat_minor": 5
}
